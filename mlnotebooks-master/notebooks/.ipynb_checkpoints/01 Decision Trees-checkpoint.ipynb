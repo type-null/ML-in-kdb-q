{
 "cells": [
  {
   "cell_type": "markdown",
   "metadata": {},
   "source": [
    "# Machine Learning Demonstrations"
   ]
  },
  {
   "cell_type": "markdown",
   "metadata": {},
   "source": [
    "In this notebook, we showcase how to use kdb+/q paired with embedPy to carry out machine learning tasks. Below we show how to train and test a decision tree classifier to identify benign/malignant samples from the Wisconsin Breast Cancer dataset.\n",
    "\n",
    "<div class=\"alert alert-danger\">\n",
    "To run the below notebook, ensure that dependencies specified in <b>requirements.txt</b> have been correctly installed.\n",
    "</div>"
   ]
  },
  {
   "cell_type": "markdown",
   "metadata": {},
   "source": [
    "## EmbedPy"
   ]
  },
  {
   "cell_type": "markdown",
   "metadata": {},
   "source": [
    "EmbedPy allows the kdb+/q interpreter to manipulate Python objects, call Python functions and load Python libraries. Python and kdb+/q developers can fuse both technologies together, allowing for a seamless application of kdb+/q’s high-speed analytics and Python’s rich ecosystem of libraries such as scikit-learn, Tensorflow, PyTorch and Theano."
   ]
  },
  {
   "cell_type": "markdown",
   "metadata": {},
   "source": [
    "## Classification Using Decision Trees"
   ]
  },
  {
   "cell_type": "markdown",
   "metadata": {},
   "source": [
    "Decision trees are a simple yet effective algorithm used for supervised classification and regression problems.\n",
    "\n",
    "A decision tree is made up of a collection of simple hierarchical decision rules, classifying datapoints into categories by splitting them based on feature values. The task of fitting a decision tree to data therefore involves finding the sequence of feature splits and the optimal split values.\n",
    "\n",
    "Decision trees can:\n",
    "- Manage a mixture of discrete, continuous and categorical inputs.\n",
    "- Use data with no normalization/preprocessing (including missing data).\n",
    "- Produce a highly interpretable output, which can be easily explained and visualized.\n",
    "\n",
    "Further discussion of decision trees can be found in the Wikipedia article [Decision tree](https://en.wikipedia.org/wiki/Decision_tree) or [Sci-Kit Learn documentation](http://scikit-learn.org/stable/modules/tree.html)."
   ]
  },
  {
   "cell_type": "markdown",
   "metadata": {},
   "source": [
    "## Breast Cancer Data"
   ]
  },
  {
   "cell_type": "markdown",
   "metadata": {},
   "source": [
    "The [Wisconsin Breast Cancer Dataset](https://archive.ics.uci.edu/ml/datasets/Breast+Cancer+Wisconsin+%28Diagnostic%29) is a set of 569 samples of fine needle aspirate (FNA) of breast mass. Each sample contains features describing characteristics of the cell nuclei, along with a classification of the sample as either benign or malignant."
   ]
  },
  {
   "cell_type": "markdown",
   "metadata": {},
   "source": [
    "---"
   ]
  },
  {
   "cell_type": "markdown",
   "metadata": {},
   "source": [
    "### Load data\n",
    "\n",
    "In the cell below, we load in the utilities library from the kdb+/q [ML-Toolkit](https://github.com/KxSystems/ml), along with graphics functions required for this notebook. We then use embedPy to import relevant python modules and load data from the Wisconsin Breast Cancer dataset."
   ]
  },
  {
   "cell_type": "code",
   "execution_count": 1,
   "metadata": {},
   "outputs": [],
   "source": [
    "/ load toolkit and graphics functions\n",
    "\\l ml/ml.q\n",
    ".ml.loadfile`:util/init.q\n",
    "\\l ../utils/graphics.q\n",
    "\\l ../utils/util.q"
   ]
  },
  {
   "cell_type": "code",
   "execution_count": 2,
   "metadata": {},
   "outputs": [
    {
     "name": "stdout",
     "output_type": "stream",
     "text": [
      "Shape of feature data is: 569 x 30\n",
      "\n",
      "17.99 10.38 122.8 1001  0.1184  0.2776  0.3001 0.1471  0.2419 0.07871 1.095  ..\n",
      "20.57 17.77 132.9 1326  0.08474 0.07864 0.0869 0.07017 0.1812 0.05667 0.5435 ..\n",
      "19.69 21.25 130   1203  0.1096  0.1599  0.1974 0.1279  0.2069 0.05999 0.7456 ..\n",
      "11.42 20.38 77.58 386.1 0.1425  0.2839  0.2414 0.1052  0.2597 0.09744 0.4956 ..\n",
      "20.29 14.34 135.1 1297  0.1003  0.1328  0.198  0.1043  0.1809 0.05883 0.7572 ..\n",
      "\n",
      "Distribution of target values:\n",
      "\n",
      "target| num pcnt \n",
      "------| ---------\n",
      "0     | 212 37.26\n",
      "1     | 357 62.74\n"
     ]
    }
   ],
   "source": [
    "/ load in data\n",
    "data:.p.import[`sklearn.datasets;`:load_breast_cancer][]\n",
    "feat:data[`:data]`\n",
    "targ:data[`:target]`\n",
    "featnm:.p.list[<]data`:feature_names\n",
    "\n",
    "/ inspect data\n",
    "-1\"Shape of feature data is: \",(\" x \"sv string .ml.shape feat),\"\\n\";\n",
    "show 5#feat\n",
    "-1\"\\nDistribution of target values:\\n\";\n",
    "show update pcnt:round[;.01]100*num%sum num from select num:count i by target from([]target:targ);"
   ]
  },
  {
   "cell_type": "markdown",
   "metadata": {},
   "source": [
    "The output above shows that classes are quite unbalanced:\n",
    "- `37%` are malignant (0)\n",
    "- `63%` are benign (1)"
   ]
  },
  {
   "cell_type": "markdown",
   "metadata": {},
   "source": [
    "---"
   ]
  },
  {
   "cell_type": "markdown",
   "metadata": {},
   "source": [
    "### Prepare data\n",
    "Before we can train a model we need to split the original data into training and testing sets. Below we select 50% to be present in the testing set."
   ]
  },
  {
   "cell_type": "code",
   "execution_count": 3,
   "metadata": {},
   "outputs": [
    {
     "name": "stdout",
     "output_type": "stream",
     "text": [
      "xtrain| 284\n",
      "ytrain| 284\n",
      "xtest | 285\n",
      "ytest | 285\n"
     ]
    }
   ],
   "source": [
    "\\S 123  / random seed\n",
    "show count each datadict:.ml.traintestsplit[feat;targ;.5]"
   ]
  },
  {
   "cell_type": "markdown",
   "metadata": {},
   "source": [
    "---"
   ]
  },
  {
   "cell_type": "markdown",
   "metadata": {},
   "source": [
    "### Build and train the model\n",
    "\n",
    "At this stage it is possible to fit the data to a decision tree classifier model, restricting the tree to a maximum depth of 3."
   ]
  },
  {
   "cell_type": "code",
   "execution_count": 4,
   "metadata": {},
   "outputs": [],
   "source": [
    "clf:.p.import[`sklearn.tree]`:DecisionTreeClassifier\n",
    "clf:clf[`max_depth pykw 3]\n",
    "clf[`:fit][datadict`xtrain;datadict`ytrain];"
   ]
  },
  {
   "cell_type": "markdown",
   "metadata": {},
   "source": [
    "Using the graph visualization software [Graphviz](https://www.graphviz.org/), we can look at the structure of the resulting decision tree."
   ]
  },
  {
   "cell_type": "code",
   "execution_count": 5,
   "metadata": {},
   "outputs": [
    {
     "data": {
      "image/svg+xml": [
       "<?xml version=\"1.0\" encoding=\"UTF-8\" standalone=\"no\"?>\n",
       "<!DOCTYPE svg PUBLIC \"-//W3C//DTD SVG 1.1//EN\"\n",
       " \"http://www.w3.org/Graphics/SVG/1.1/DTD/svg11.dtd\">\n",
       "<!-- Generated by graphviz version 2.44.0 (20200408.0750)\n",
       " -->\n",
       "<!-- Title: Tree Pages: 1 -->\n",
       "<svg width=\"902pt\" height=\"373pt\"\n",
       " viewBox=\"0.00 0.00 901.50 373.00\" xmlns=\"http://www.w3.org/2000/svg\" xmlns:xlink=\"http://www.w3.org/1999/xlink\">\n",
       "<g id=\"graph0\" class=\"graph\" transform=\"scale(1 1) rotate(0) translate(4 369)\">\n",
       "<title>Tree</title>\n",
       "<polygon fill=\"white\" stroke=\"transparent\" points=\"-4,4 -4,-369 897.5,-369 897.5,4 -4,4\"/>\n",
       "<!-- 0 -->\n",
       "<g id=\"node1\" class=\"node\">\n",
       "<title>0</title>\n",
       "<polygon fill=\"none\" stroke=\"black\" points=\"534.5,-365 348.5,-365 348.5,-297 534.5,-297 534.5,-365\"/>\n",
       "<text text-anchor=\"middle\" x=\"441.5\" y=\"-349.8\" font-family=\"Times,serif\" font-size=\"14.00\">mean concave points &lt;= 0.052</text>\n",
       "<text text-anchor=\"middle\" x=\"441.5\" y=\"-334.8\" font-family=\"Times,serif\" font-size=\"14.00\">gini = 0.46</text>\n",
       "<text text-anchor=\"middle\" x=\"441.5\" y=\"-319.8\" font-family=\"Times,serif\" font-size=\"14.00\">samples = 284</text>\n",
       "<text text-anchor=\"middle\" x=\"441.5\" y=\"-304.8\" font-family=\"Times,serif\" font-size=\"14.00\">value = [102, 182]</text>\n",
       "</g>\n",
       "<!-- 1 -->\n",
       "<g id=\"node2\" class=\"node\">\n",
       "<title>1</title>\n",
       "<polygon fill=\"none\" stroke=\"black\" points=\"428.5,-261 294.5,-261 294.5,-193 428.5,-193 428.5,-261\"/>\n",
       "<text text-anchor=\"middle\" x=\"361.5\" y=\"-245.8\" font-family=\"Times,serif\" font-size=\"14.00\">worst area &lt;= 889.85</text>\n",
       "<text text-anchor=\"middle\" x=\"361.5\" y=\"-230.8\" font-family=\"Times,serif\" font-size=\"14.00\">gini = 0.076</text>\n",
       "<text text-anchor=\"middle\" x=\"361.5\" y=\"-215.8\" font-family=\"Times,serif\" font-size=\"14.00\">samples = 176</text>\n",
       "<text text-anchor=\"middle\" x=\"361.5\" y=\"-200.8\" font-family=\"Times,serif\" font-size=\"14.00\">value = [7, 169]</text>\n",
       "</g>\n",
       "<!-- 0&#45;&gt;1 -->\n",
       "<g id=\"edge1\" class=\"edge\">\n",
       "<title>0&#45;&gt;1</title>\n",
       "<path fill=\"none\" stroke=\"black\" d=\"M415.53,-296.88C408.61,-288.07 401.05,-278.43 393.84,-269.24\"/>\n",
       "<polygon fill=\"black\" stroke=\"black\" points=\"396.54,-267.01 387.62,-261.3 391.03,-271.33 396.54,-267.01\"/>\n",
       "<text text-anchor=\"middle\" x=\"384.62\" y=\"-282.42\" font-family=\"Times,serif\" font-size=\"14.00\">True</text>\n",
       "</g>\n",
       "<!-- 8 -->\n",
       "<g id=\"node9\" class=\"node\">\n",
       "<title>8</title>\n",
       "<polygon fill=\"none\" stroke=\"black\" points=\"593.5,-261 465.5,-261 465.5,-193 593.5,-193 593.5,-261\"/>\n",
       "<text text-anchor=\"middle\" x=\"529.5\" y=\"-245.8\" font-family=\"Times,serif\" font-size=\"14.00\">worst area &lt;= 817.6</text>\n",
       "<text text-anchor=\"middle\" x=\"529.5\" y=\"-230.8\" font-family=\"Times,serif\" font-size=\"14.00\">gini = 0.212</text>\n",
       "<text text-anchor=\"middle\" x=\"529.5\" y=\"-215.8\" font-family=\"Times,serif\" font-size=\"14.00\">samples = 108</text>\n",
       "<text text-anchor=\"middle\" x=\"529.5\" y=\"-200.8\" font-family=\"Times,serif\" font-size=\"14.00\">value = [95, 13]</text>\n",
       "</g>\n",
       "<!-- 0&#45;&gt;8 -->\n",
       "<g id=\"edge8\" class=\"edge\">\n",
       "<title>0&#45;&gt;8</title>\n",
       "<path fill=\"none\" stroke=\"black\" d=\"M470.07,-296.88C477.76,-287.98 486.16,-278.24 494.16,-268.96\"/>\n",
       "<polygon fill=\"black\" stroke=\"black\" points=\"496.89,-271.16 500.77,-261.3 491.59,-266.58 496.89,-271.16\"/>\n",
       "<text text-anchor=\"middle\" x=\"502.61\" y=\"-282.53\" font-family=\"Times,serif\" font-size=\"14.00\">False</text>\n",
       "</g>\n",
       "<!-- 2 -->\n",
       "<g id=\"node3\" class=\"node\">\n",
       "<title>2</title>\n",
       "<polygon fill=\"none\" stroke=\"black\" points=\"236.5,-157 102.5,-157 102.5,-89 236.5,-89 236.5,-157\"/>\n",
       "<text text-anchor=\"middle\" x=\"169.5\" y=\"-141.8\" font-family=\"Times,serif\" font-size=\"14.00\">radius error &lt;= 0.955</text>\n",
       "<text text-anchor=\"middle\" x=\"169.5\" y=\"-126.8\" font-family=\"Times,serif\" font-size=\"14.00\">gini = 0.024</text>\n",
       "<text text-anchor=\"middle\" x=\"169.5\" y=\"-111.8\" font-family=\"Times,serif\" font-size=\"14.00\">samples = 167</text>\n",
       "<text text-anchor=\"middle\" x=\"169.5\" y=\"-96.8\" font-family=\"Times,serif\" font-size=\"14.00\">value = [2, 165]</text>\n",
       "</g>\n",
       "<!-- 1&#45;&gt;2 -->\n",
       "<g id=\"edge2\" class=\"edge\">\n",
       "<title>1&#45;&gt;2</title>\n",
       "<path fill=\"none\" stroke=\"black\" d=\"M299.16,-192.88C280.54,-182.99 259.98,-172.07 240.83,-161.9\"/>\n",
       "<polygon fill=\"black\" stroke=\"black\" points=\"242.33,-158.73 231.85,-157.12 239.04,-164.91 242.33,-158.73\"/>\n",
       "</g>\n",
       "<!-- 5 -->\n",
       "<g id=\"node6\" class=\"node\">\n",
       "<title>5</title>\n",
       "<polygon fill=\"none\" stroke=\"black\" points=\"433,-157 290,-157 290,-89 433,-89 433,-157\"/>\n",
       "<text text-anchor=\"middle\" x=\"361.5\" y=\"-141.8\" font-family=\"Times,serif\" font-size=\"14.00\">mean texture &lt;= 19.83</text>\n",
       "<text text-anchor=\"middle\" x=\"361.5\" y=\"-126.8\" font-family=\"Times,serif\" font-size=\"14.00\">gini = 0.494</text>\n",
       "<text text-anchor=\"middle\" x=\"361.5\" y=\"-111.8\" font-family=\"Times,serif\" font-size=\"14.00\">samples = 9</text>\n",
       "<text text-anchor=\"middle\" x=\"361.5\" y=\"-96.8\" font-family=\"Times,serif\" font-size=\"14.00\">value = [5, 4]</text>\n",
       "</g>\n",
       "<!-- 1&#45;&gt;5 -->\n",
       "<g id=\"edge5\" class=\"edge\">\n",
       "<title>1&#45;&gt;5</title>\n",
       "<path fill=\"none\" stroke=\"black\" d=\"M361.5,-192.88C361.5,-184.78 361.5,-175.98 361.5,-167.47\"/>\n",
       "<polygon fill=\"black\" stroke=\"black\" points=\"365,-167.3 361.5,-157.3 358,-167.3 365,-167.3\"/>\n",
       "</g>\n",
       "<!-- 3 -->\n",
       "<g id=\"node4\" class=\"node\">\n",
       "<title>3</title>\n",
       "<polygon fill=\"none\" stroke=\"black\" points=\"105,-53 0,-53 0,0 105,0 105,-53\"/>\n",
       "<text text-anchor=\"middle\" x=\"52.5\" y=\"-37.8\" font-family=\"Times,serif\" font-size=\"14.00\">gini = 0.012</text>\n",
       "<text text-anchor=\"middle\" x=\"52.5\" y=\"-22.8\" font-family=\"Times,serif\" font-size=\"14.00\">samples = 166</text>\n",
       "<text text-anchor=\"middle\" x=\"52.5\" y=\"-7.8\" font-family=\"Times,serif\" font-size=\"14.00\">value = [1, 165]</text>\n",
       "</g>\n",
       "<!-- 2&#45;&gt;3 -->\n",
       "<g id=\"edge3\" class=\"edge\">\n",
       "<title>2&#45;&gt;3</title>\n",
       "<path fill=\"none\" stroke=\"black\" d=\"M128.58,-88.95C116.8,-79.43 103.97,-69.07 92.26,-59.62\"/>\n",
       "<polygon fill=\"black\" stroke=\"black\" points=\"94.34,-56.8 84.36,-53.24 89.94,-62.24 94.34,-56.8\"/>\n",
       "</g>\n",
       "<!-- 4 -->\n",
       "<g id=\"node5\" class=\"node\">\n",
       "<title>4</title>\n",
       "<polygon fill=\"none\" stroke=\"black\" points=\"215.5,-53 123.5,-53 123.5,0 215.5,0 215.5,-53\"/>\n",
       "<text text-anchor=\"middle\" x=\"169.5\" y=\"-37.8\" font-family=\"Times,serif\" font-size=\"14.00\">gini = 0.0</text>\n",
       "<text text-anchor=\"middle\" x=\"169.5\" y=\"-22.8\" font-family=\"Times,serif\" font-size=\"14.00\">samples = 1</text>\n",
       "<text text-anchor=\"middle\" x=\"169.5\" y=\"-7.8\" font-family=\"Times,serif\" font-size=\"14.00\">value = [1, 0]</text>\n",
       "</g>\n",
       "<!-- 2&#45;&gt;4 -->\n",
       "<g id=\"edge4\" class=\"edge\">\n",
       "<title>2&#45;&gt;4</title>\n",
       "<path fill=\"none\" stroke=\"black\" d=\"M169.5,-88.95C169.5,-80.72 169.5,-71.85 169.5,-63.48\"/>\n",
       "<polygon fill=\"black\" stroke=\"black\" points=\"173,-63.24 169.5,-53.24 166,-63.24 173,-63.24\"/>\n",
       "</g>\n",
       "<!-- 6 -->\n",
       "<g id=\"node7\" class=\"node\">\n",
       "<title>6</title>\n",
       "<polygon fill=\"none\" stroke=\"black\" points=\"325.5,-53 233.5,-53 233.5,0 325.5,0 325.5,-53\"/>\n",
       "<text text-anchor=\"middle\" x=\"279.5\" y=\"-37.8\" font-family=\"Times,serif\" font-size=\"14.00\">gini = 0.0</text>\n",
       "<text text-anchor=\"middle\" x=\"279.5\" y=\"-22.8\" font-family=\"Times,serif\" font-size=\"14.00\">samples = 4</text>\n",
       "<text text-anchor=\"middle\" x=\"279.5\" y=\"-7.8\" font-family=\"Times,serif\" font-size=\"14.00\">value = [0, 4]</text>\n",
       "</g>\n",
       "<!-- 5&#45;&gt;6 -->\n",
       "<g id=\"edge6\" class=\"edge\">\n",
       "<title>5&#45;&gt;6</title>\n",
       "<path fill=\"none\" stroke=\"black\" d=\"M332.82,-88.95C324.96,-79.89 316.44,-70.07 308.56,-60.99\"/>\n",
       "<polygon fill=\"black\" stroke=\"black\" points=\"311.03,-58.5 301.83,-53.24 305.74,-63.08 311.03,-58.5\"/>\n",
       "</g>\n",
       "<!-- 7 -->\n",
       "<g id=\"node8\" class=\"node\">\n",
       "<title>7</title>\n",
       "<polygon fill=\"none\" stroke=\"black\" points=\"435.5,-53 343.5,-53 343.5,0 435.5,0 435.5,-53\"/>\n",
       "<text text-anchor=\"middle\" x=\"389.5\" y=\"-37.8\" font-family=\"Times,serif\" font-size=\"14.00\">gini = 0.0</text>\n",
       "<text text-anchor=\"middle\" x=\"389.5\" y=\"-22.8\" font-family=\"Times,serif\" font-size=\"14.00\">samples = 5</text>\n",
       "<text text-anchor=\"middle\" x=\"389.5\" y=\"-7.8\" font-family=\"Times,serif\" font-size=\"14.00\">value = [5, 0]</text>\n",
       "</g>\n",
       "<!-- 5&#45;&gt;7 -->\n",
       "<g id=\"edge7\" class=\"edge\">\n",
       "<title>5&#45;&gt;7</title>\n",
       "<path fill=\"none\" stroke=\"black\" d=\"M371.29,-88.95C373.79,-80.53 376.48,-71.45 379,-62.92\"/>\n",
       "<polygon fill=\"black\" stroke=\"black\" points=\"382.39,-63.82 381.87,-53.24 375.68,-61.83 382.39,-63.82\"/>\n",
       "</g>\n",
       "<!-- 9 -->\n",
       "<g id=\"node10\" class=\"node\">\n",
       "<title>9</title>\n",
       "<polygon fill=\"none\" stroke=\"black\" points=\"601,-157 458,-157 458,-89 601,-89 601,-157\"/>\n",
       "<text text-anchor=\"middle\" x=\"529.5\" y=\"-141.8\" font-family=\"Times,serif\" font-size=\"14.00\">worst texture &lt;= 25.89</text>\n",
       "<text text-anchor=\"middle\" x=\"529.5\" y=\"-126.8\" font-family=\"Times,serif\" font-size=\"14.00\">gini = 0.499</text>\n",
       "<text text-anchor=\"middle\" x=\"529.5\" y=\"-111.8\" font-family=\"Times,serif\" font-size=\"14.00\">samples = 21</text>\n",
       "<text text-anchor=\"middle\" x=\"529.5\" y=\"-96.8\" font-family=\"Times,serif\" font-size=\"14.00\">value = [10, 11]</text>\n",
       "</g>\n",
       "<!-- 8&#45;&gt;9 -->\n",
       "<g id=\"edge9\" class=\"edge\">\n",
       "<title>8&#45;&gt;9</title>\n",
       "<path fill=\"none\" stroke=\"black\" d=\"M529.5,-192.88C529.5,-184.78 529.5,-175.98 529.5,-167.47\"/>\n",
       "<polygon fill=\"black\" stroke=\"black\" points=\"533,-167.3 529.5,-157.3 526,-167.3 533,-167.3\"/>\n",
       "</g>\n",
       "<!-- 12 -->\n",
       "<g id=\"node13\" class=\"node\">\n",
       "<title>12</title>\n",
       "<polygon fill=\"none\" stroke=\"black\" points=\"806,-157 657,-157 657,-89 806,-89 806,-157\"/>\n",
       "<text text-anchor=\"middle\" x=\"731.5\" y=\"-141.8\" font-family=\"Times,serif\" font-size=\"14.00\">mean texture &lt;= 14.095</text>\n",
       "<text text-anchor=\"middle\" x=\"731.5\" y=\"-126.8\" font-family=\"Times,serif\" font-size=\"14.00\">gini = 0.045</text>\n",
       "<text text-anchor=\"middle\" x=\"731.5\" y=\"-111.8\" font-family=\"Times,serif\" font-size=\"14.00\">samples = 87</text>\n",
       "<text text-anchor=\"middle\" x=\"731.5\" y=\"-96.8\" font-family=\"Times,serif\" font-size=\"14.00\">value = [85, 2]</text>\n",
       "</g>\n",
       "<!-- 8&#45;&gt;12 -->\n",
       "<g id=\"edge12\" class=\"edge\">\n",
       "<title>8&#45;&gt;12</title>\n",
       "<path fill=\"none\" stroke=\"black\" d=\"M593.69,-193.59C613.82,-183.42 636.2,-172.12 656.98,-161.63\"/>\n",
       "<polygon fill=\"black\" stroke=\"black\" points=\"658.74,-164.66 666.09,-157.03 655.58,-158.41 658.74,-164.66\"/>\n",
       "</g>\n",
       "<!-- 10 -->\n",
       "<g id=\"node11\" class=\"node\">\n",
       "<title>10</title>\n",
       "<polygon fill=\"none\" stroke=\"black\" points=\"551.5,-53 453.5,-53 453.5,0 551.5,0 551.5,-53\"/>\n",
       "<text text-anchor=\"middle\" x=\"502.5\" y=\"-37.8\" font-family=\"Times,serif\" font-size=\"14.00\">gini = 0.0</text>\n",
       "<text text-anchor=\"middle\" x=\"502.5\" y=\"-22.8\" font-family=\"Times,serif\" font-size=\"14.00\">samples = 10</text>\n",
       "<text text-anchor=\"middle\" x=\"502.5\" y=\"-7.8\" font-family=\"Times,serif\" font-size=\"14.00\">value = [0, 10]</text>\n",
       "</g>\n",
       "<!-- 9&#45;&gt;10 -->\n",
       "<g id=\"edge10\" class=\"edge\">\n",
       "<title>9&#45;&gt;10</title>\n",
       "<path fill=\"none\" stroke=\"black\" d=\"M520.06,-88.95C517.65,-80.53 515.06,-71.45 512.62,-62.92\"/>\n",
       "<polygon fill=\"black\" stroke=\"black\" points=\"515.97,-61.89 509.85,-53.24 509.24,-63.81 515.97,-61.89\"/>\n",
       "</g>\n",
       "<!-- 11 -->\n",
       "<g id=\"node12\" class=\"node\">\n",
       "<title>11</title>\n",
       "<polygon fill=\"none\" stroke=\"black\" points=\"667.5,-53 569.5,-53 569.5,0 667.5,0 667.5,-53\"/>\n",
       "<text text-anchor=\"middle\" x=\"618.5\" y=\"-37.8\" font-family=\"Times,serif\" font-size=\"14.00\">gini = 0.165</text>\n",
       "<text text-anchor=\"middle\" x=\"618.5\" y=\"-22.8\" font-family=\"Times,serif\" font-size=\"14.00\">samples = 11</text>\n",
       "<text text-anchor=\"middle\" x=\"618.5\" y=\"-7.8\" font-family=\"Times,serif\" font-size=\"14.00\">value = [10, 1]</text>\n",
       "</g>\n",
       "<!-- 9&#45;&gt;11 -->\n",
       "<g id=\"edge11\" class=\"edge\">\n",
       "<title>9&#45;&gt;11</title>\n",
       "<path fill=\"none\" stroke=\"black\" d=\"M560.63,-88.95C569.24,-79.8 578.6,-69.87 587.22,-60.71\"/>\n",
       "<polygon fill=\"black\" stroke=\"black\" points=\"589.95,-62.92 594.26,-53.24 584.86,-58.12 589.95,-62.92\"/>\n",
       "</g>\n",
       "<!-- 13 -->\n",
       "<g id=\"node14\" class=\"node\">\n",
       "<title>13</title>\n",
       "<polygon fill=\"none\" stroke=\"black\" points=\"777.5,-53 685.5,-53 685.5,0 777.5,0 777.5,-53\"/>\n",
       "<text text-anchor=\"middle\" x=\"731.5\" y=\"-37.8\" font-family=\"Times,serif\" font-size=\"14.00\">gini = 0.444</text>\n",
       "<text text-anchor=\"middle\" x=\"731.5\" y=\"-22.8\" font-family=\"Times,serif\" font-size=\"14.00\">samples = 3</text>\n",
       "<text text-anchor=\"middle\" x=\"731.5\" y=\"-7.8\" font-family=\"Times,serif\" font-size=\"14.00\">value = [1, 2]</text>\n",
       "</g>\n",
       "<!-- 12&#45;&gt;13 -->\n",
       "<g id=\"edge13\" class=\"edge\">\n",
       "<title>12&#45;&gt;13</title>\n",
       "<path fill=\"none\" stroke=\"black\" d=\"M731.5,-88.95C731.5,-80.72 731.5,-71.85 731.5,-63.48\"/>\n",
       "<polygon fill=\"black\" stroke=\"black\" points=\"735,-63.24 731.5,-53.24 728,-63.24 735,-63.24\"/>\n",
       "</g>\n",
       "<!-- 14 -->\n",
       "<g id=\"node15\" class=\"node\">\n",
       "<title>14</title>\n",
       "<polygon fill=\"none\" stroke=\"black\" points=\"893.5,-53 795.5,-53 795.5,0 893.5,0 893.5,-53\"/>\n",
       "<text text-anchor=\"middle\" x=\"844.5\" y=\"-37.8\" font-family=\"Times,serif\" font-size=\"14.00\">gini = 0.0</text>\n",
       "<text text-anchor=\"middle\" x=\"844.5\" y=\"-22.8\" font-family=\"Times,serif\" font-size=\"14.00\">samples = 84</text>\n",
       "<text text-anchor=\"middle\" x=\"844.5\" y=\"-7.8\" font-family=\"Times,serif\" font-size=\"14.00\">value = [84, 0]</text>\n",
       "</g>\n",
       "<!-- 12&#45;&gt;14 -->\n",
       "<g id=\"edge14\" class=\"edge\">\n",
       "<title>12&#45;&gt;14</title>\n",
       "<path fill=\"none\" stroke=\"black\" d=\"M771.02,-88.95C782.29,-79.53 794.55,-69.27 805.77,-59.89\"/>\n",
       "<polygon fill=\"black\" stroke=\"black\" points=\"808.3,-62.34 813.72,-53.24 803.81,-56.97 808.3,-62.34\"/>\n",
       "</g>\n",
       "</g>\n",
       "</svg>\n"
      ],
      "text/plain": [
       "<graphviz.files.Source at 0x1a269e50b8>"
      ]
     },
     "metadata": {},
     "output_type": "display_data"
    }
   ],
   "source": [
    "gv: .p.import`graphviz\n",
    "egv:.p.import[`sklearn.tree;`:export_graphviz]\n",
    "dotdata:egv[clf;`out_file pykw (::);`feature_names pykw featnm]\n",
    "graph:gv[`:Source]dotdata\n",
    "display graph"
   ]
  },
  {
   "cell_type": "markdown",
   "metadata": {},
   "source": [
    "The decision tree classifier produces a highly interpretable model which can be visualized and understood even by those with a less technical knowledge.\n",
    "\n",
    "The algorithm finds the best tree by following a greedy strategy where it looks for the feature (mean concave points) and split value (0.052) that most effectively partitions the data.\n",
    "\n",
    "This divides the dataset of 284 samples into two subsets of 176 samples and 108 samples:\n",
    "- Of the 176 samples, 7 (4%) are malignant and 169 (96%) are benign.\n",
    "- Of the 108 samples, 95 (88%) are malignant and 13 (12%) are benign.\n",
    "\n",
    "The algorithm continues splitting the dataset at each node, by finding the feature and split value that most effectively partitions the benign from the malignant samples."
   ]
  },
  {
   "cell_type": "markdown",
   "metadata": {},
   "source": [
    "---"
   ]
  },
  {
   "cell_type": "markdown",
   "metadata": {},
   "source": [
    "### Evaluate model\n",
    "\n",
    "The output of the decision tree is a class assignment.\n",
    "\n",
    "We take a previously unseen sample and pass it through the decision tree. Following the appropriate branch at each split (based on the feature values of the test point), we eventually end up at a leaf node, at the bottom of the tree. At this point, we assign the test point the class value of the majority of the training examples included in that leaf.\n",
    "\n",
    "We can therefore evaluate the performance of the decision tree on the held-out test data. "
   ]
  },
  {
   "cell_type": "code",
   "execution_count": 6,
   "metadata": {},
   "outputs": [
    {
     "name": "stdout",
     "output_type": "stream",
     "text": [
      "Performance of the classifier\n",
      "log loss: 0.9664692\n",
      "accuracy: 0.9508772\n"
     ]
    }
   ],
   "source": [
    "/ make predictions\n",
    "yprob:clf[`:predict_proba;<]datadict`xtest\n",
    "ypred:yprob?'max each yprob\n",
    "ytest:datadict`ytest\n",
    "\n",
    "/ calculate performance metrics\n",
    "dtloss:.ml.logloss[ytest;yprob]\n",
    "dtacc:.ml.accuracy[ypred;ytest]\n",
    "\n",
    "-1\"Performance of the classifier\";\n",
    "-1\"log loss: \",string[dtloss],\"\\naccuracy: \",string dtacc;"
   ]
  },
  {
   "cell_type": "markdown",
   "metadata": {},
   "source": [
    "The decision tree classifier achieves 95% accuracy on the test set, a strong performance from such a simple classifier."
   ]
  },
  {
   "cell_type": "markdown",
   "metadata": {},
   "source": [
    "---"
   ]
  },
  {
   "cell_type": "markdown",
   "metadata": {},
   "source": [
    "### Confusion matrix\n",
    "\n",
    "\n",
    "With a Confusion Matrix, we can inspect the interaction between:\n",
    "- True positives\n",
    "- True negatives\n",
    "- False positives\n",
    "- False negatives"
   ]
  },
  {
   "cell_type": "code",
   "execution_count": 7,
   "metadata": {
    "scrolled": false
   },
   "outputs": [
    {
     "name": "stdout",
     "output_type": "stream",
     "text": [
      "0| 98 12 \n",
      "1| 2  173\n"
     ]
    },
    {
     "data": {
      "image/png": "[encoded data removed]",
      "text/plain": [
       "<Figure size 360x360 with 1 Axes>"
      ]
     },
     "metadata": {},
     "output_type": "display_data"
    }
   ],
   "source": [
    "show cnfM:.ml.confmat[ypred;ytest]\n",
    "displayCM[value cnfM;`benign`malignant;\"Test Set Confusion Matrix\";()]"
   ]
  },
  {
   "cell_type": "markdown",
   "metadata": {},
   "source": [
    "The classifier has:\n",
    "\n",
    "- True Positive Rate: ```TPR = TP/(TP+FN) = 173/(173+2) = 99%```\n",
    "- False Positive Rate: ```FPR = FP/(FP+TN) = 12/(12+98) =  11%```\n",
    "\n",
    "**NB**: We are using *positive* here to denote the malignant case, which actually has the label `0`, rather than `1` in the Wisconsin dataset."
   ]
  },
  {
   "cell_type": "markdown",
   "metadata": {},
   "source": [
    "---"
   ]
  },
  {
   "cell_type": "markdown",
   "metadata": {},
   "source": [
    "### ROC curve\n",
    "Rather than using a majority vote system, we could use a threshold other than 50% for assigning the points to classes at the leaf node.\n",
    "\n",
    "- By modifying the threshold in favour of a _malignant_ diagnosis, we would increase the true positive rate, but would also increase the false positive rate.  \n",
    "- By modifying the threshold in favour of a _benign_ diagnosis, we would decrease the false positive rate, but would also decrease the true positive rate.  \n",
    "\n",
    "The realtionship between the true positive rate (sensitivity) and the false positive rate, is captured in the Receiver Operating Characteristic (ROC) curve.\n",
    "\n",
    "Receiver Operating Characteristic (ROC) describes the ability to increase the recall/sensitivity of a model, without decreasing the precision of the model. The ROC value is calulated as the area under the associated ROC curve (plotting true positive rates against false positive rates).\n",
    "\n",
    "**NB**: `1 - FPR` is called the specificity of the model. We therefore have a trade-off between sensitivity and specificity.\n",
    "\n",
    "The area under the curve (AUC) is interpreted as the probability that a classifier will rank a randomly chosen positive instance higher than a randomly chosen negative one.\n",
    "\n",
    "The optimal classifier would have a false positive rate of 0 and a true positive rate of 1, giving a an AUC curve of 1."
   ]
  },
  {
   "cell_type": "code",
   "execution_count": 8,
   "metadata": {},
   "outputs": [
    {
     "data": {
      "image/png": "[encoded data removed]",
      "text/plain": [
       "<Figure size 460.8x345.6 with 1 Axes>"
      ]
     },
     "metadata": {},
     "output_type": "display_data"
    }
   ],
   "source": [
    "yprob:clf[`:predict_proba;feat]`\n",
    "displayROC[targ;yprob[;1]]"
   ]
  },
  {
   "cell_type": "markdown",
   "metadata": {},
   "source": [
    " With an AUC of 0.96, our classifier is close to optimal."
   ]
  },
  {
   "cell_type": "markdown",
   "metadata": {},
   "source": [
    "---"
   ]
  }
 ],
 "metadata": {
  "kernelspec": {
   "display_name": "Q (kdb+)",
   "language": "q",
   "name": "qpk"
  },
  "language_info": {
   "file_extension": ".q",
   "mimetype": "text/x-q",
   "name": "q",
   "version": "3.6.0"
  }
 },
 "nbformat": 4,
 "nbformat_minor": 2
}
